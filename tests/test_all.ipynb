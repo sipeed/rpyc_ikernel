{
 "cells": [
  {
   "cell_type": "code",
   "execution_count": null,
   "metadata": {
    "scrolled": true
   },
   "outputs": [
    {
     "name": "stdout",
     "output_type": "stream",
     "text": [
      "[ rpyc-kernel ]( running at Wed Dec  8 17:39:11 2021 )\n"
     ]
    }
   ],
   "source": [
    "while True:\n",
    "    pass"
   ]
  },
  {
   "cell_type": "code",
   "execution_count": null,
   "metadata": {},
   "outputs": [
    {
     "name": "stdout",
     "output_type": "stream",
     "text": [
      "[ rpyc-kernel ]( running at Fri Dec 10 05:14:22 2021 )\n"
     ]
    }
   ],
   "source": [
    "from maix import camera, image, display\n",
    "\n",
    "while True:\n",
    "    tmp = camera.capture()\n",
    "    ma = tmp.find_blobs([(28,-36,-14,68,-5,15)])\n",
    "    if ma:\n",
    "        for i in ma:\n",
    "            tmp.draw_rectangle(i[\"x\"], i[\"y\"], i[\"x\"] + i[\"w\"], i[\"y\"] + i[\"h\"], (255, 0, 0), 1)\n",
    "    display.show(tmp)"
   ]
  },
  {
   "cell_type": "code",
   "execution_count": null,
   "metadata": {},
   "outputs": [],
   "source": []
  },
  {
   "cell_type": "code",
   "execution_count": null,
   "metadata": {
    "scrolled": false
   },
   "outputs": [],
   "source": [
    "from maix import display, camera\n",
    "while True:\n",
    "    display.show(camera.capture())"
   ]
  },
  {
   "cell_type": "code",
   "execution_count": null,
   "metadata": {},
   "outputs": [],
   "source": [
    "\n",
    "from PIL import Image\n",
    "from PIL import ImageDraw\n",
    "from PIL import ImageFont\n",
    "\n",
    "import time, random\n",
    "\n",
    "from maix import display\n",
    "\n",
    "image = Image.new(\"RGB\", (120, 120), (0, 255, 0))# (random.randint(0, 255), random.randint(0, 255), random.randint(0, 255)))\n",
    "draw = ImageDraw.Draw(image)\n",
    "\n",
    "draw.line((20, 20, 100, 100), 'cyan')\n",
    "\n",
    "display.show(image)\n"
   ]
  },
  {
   "cell_type": "code",
   "execution_count": null,
   "metadata": {},
   "outputs": [],
   "source": [
    "\n",
    "from PIL import Image\n",
    "from PIL import ImageDraw\n",
    "from PIL import ImageFont\n",
    "\n",
    "import time, random\n",
    "\n",
    "from maix import display\n",
    "\n",
    "image = Image.new(\"RGB\", (120, 120), (255, 0, 0))# (random.randint(0, 255), random.randint(0, 255), random.randint(0, 255)))\n",
    "draw = ImageDraw.Draw(image)\n",
    "\n",
    "draw.line((20, 20, 100, 100), 'cyan')\n",
    "\n",
    "display.show(image)\n"
   ]
  },
  {
   "cell_type": "code",
   "execution_count": null,
   "metadata": {},
   "outputs": [],
   "source": [
    "\n",
    "from PIL import Image\n",
    "from PIL import ImageDraw\n",
    "from PIL import ImageFont\n",
    "\n",
    "import time, random\n",
    "\n",
    "from maix import display\n",
    "\n",
    "image = Image.new(\"RGB\", (120, 120), (0, 255, 0))# (random.randint(0, 255), random.randint(0, 255), random.randint(0, 255)))\n",
    "draw = ImageDraw.Draw(image)\n",
    "\n",
    "draw.line((20, 20, 100, 100), 'cyan')\n",
    "\n",
    "display.show(image)\n"
   ]
  },
  {
   "cell_type": "code",
   "execution_count": null,
   "metadata": {},
   "outputs": [],
   "source": [
    "\n",
    "from PIL import Image\n",
    "from PIL import ImageDraw\n",
    "from PIL import ImageFont\n",
    "\n",
    "import time, random\n",
    "\n",
    "from maix import display\n",
    "\n",
    "image = Image.new(\"RGB\", (120, 120), (255, 0, 0))# (random.randint(0, 255), random.randint(0, 255), random.randint(0, 255)))\n",
    "draw = ImageDraw.Draw(image)\n",
    "\n",
    "draw.line((20, 20, 100, 100), 'cyan')\n",
    "\n",
    "display.show(image)\n"
   ]
  },
  {
   "cell_type": "code",
   "execution_count": null,
   "metadata": {},
   "outputs": [],
   "source": [
    "from maix import display, camera\n",
    "display.show(camera.capture().resize(100, 100))"
   ]
  },
  {
   "cell_type": "code",
   "execution_count": null,
   "metadata": {
    "scrolled": true
   },
   "outputs": [],
   "source": [
    "from maix import display, camera\n",
    "while True:\n",
    "    display.show(camera.capture().resize(100, 100))"
   ]
  },
  {
   "cell_type": "code",
   "execution_count": null,
   "metadata": {},
   "outputs": [],
   "source": [
    "from maix import display, camera\n",
    "while True:\n",
    "    display.show(camera.capture().resize(200, 200))"
   ]
  },
  {
   "cell_type": "code",
   "execution_count": null,
   "metadata": {},
   "outputs": [],
   "source": [
    "while True:\n",
    "    pass"
   ]
  },
  {
   "cell_type": "code",
   "execution_count": null,
   "metadata": {
    "scrolled": false
   },
   "outputs": [],
   "source": [
    "from maix import display, camera\n",
    "while True:\n",
    "    display.show(camera.capture())"
   ]
  },
  {
   "cell_type": "code",
   "execution_count": null,
   "metadata": {},
   "outputs": [],
   "source": [
    "from maix import display, camera\n",
    "camera.config((320, 240))\n",
    "while True:\n",
    "    display.show(camera.capture())"
   ]
  },
  {
   "cell_type": "code",
   "execution_count": null,
   "metadata": {},
   "outputs": [],
   "source": []
  },
  {
   "cell_type": "code",
   "execution_count": null,
   "metadata": {},
   "outputs": [],
   "source": []
  },
  {
   "cell_type": "code",
   "execution_count": null,
   "metadata": {},
   "outputs": [],
   "source": []
  },
  {
   "cell_type": "code",
   "execution_count": null,
   "metadata": {},
   "outputs": [],
   "source": []
  },
  {
   "cell_type": "code",
   "execution_count": null,
   "metadata": {},
   "outputs": [],
   "source": []
  },
  {
   "cell_type": "code",
   "execution_count": null,
   "metadata": {},
   "outputs": [],
   "source": []
  },
  {
   "cell_type": "code",
   "execution_count": null,
   "metadata": {},
   "outputs": [],
   "source": []
  },
  {
   "cell_type": "code",
   "execution_count": null,
   "metadata": {},
   "outputs": [],
   "source": []
  },
  {
   "cell_type": "code",
   "execution_count": null,
   "metadata": {},
   "outputs": [],
   "source": []
  },
  {
   "cell_type": "code",
   "execution_count": null,
   "metadata": {},
   "outputs": [],
   "source": []
  }
 ],
 "metadata": {
  "kernelspec": {
   "display_name": "RPyc-Python",
   "language": "Python",
   "name": "rpyc"
  },
  "language_info": {
   "codemirror_mode": "python",
   "file_extension": ".py",
   "mimetype": "text/python",
   "name": "Python"
  }
 },
 "nbformat": 4,
 "nbformat_minor": 4
}
