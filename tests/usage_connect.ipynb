{
 "cells": [
  {
   "cell_type": "code",
   "execution_count": 1,
   "source": [
    "# 请将 \"192.168.0.156\" 修改成设备的 IP 地址，即可连接你的硬件。\r\n",
    "$connect(\"192.168.0.156\")\r\n",
    "# 推荐使用 adb forward tcp:18812 tcp:18812 && adb forward tcp:18812 tcp:18812 配置到本机自动连接。\r\n",
    "\r\n",
    "# 连接成功会显示远端机器的硬件信息。\r\n",
    "import platform\r\n",
    "print(platform.uname())"
   ],
   "outputs": [
    {
     "output_type": "stream",
     "name": "stdout",
     "text": [
      "uname_result(system='Linux', node='sipeed', release='4.9.118', version='#110 PREEMPT Fri Dec 25 08:16:04 UTC 2020', machine='armv7l', processor='')\n"
     ]
    }
   ],
   "metadata": {}
  },
  {
   "cell_type": "code",
   "execution_count": 1,
   "source": [
    "import platform"
   ],
   "outputs": [],
   "metadata": {}
  },
  {
   "cell_type": "code",
   "execution_count": 1,
   "source": [
    "print(platform.uname())"
   ],
   "outputs": [
    {
     "output_type": "stream",
     "name": "stdout",
     "text": [
      "uname_result(system='Linux', node='sipeed', release='4.9.118', version='#110 PREEMPT Fri Dec 25 08:16:04 UTC 2020', machine='armv7l', processor='')\n"
     ]
    }
   ],
   "metadata": {}
  },
  {
   "cell_type": "code",
   "execution_count": 1,
   "source": [
    "$connect(\"192.168.0.156\")\r\n",
    "# 当它重新连接以后环境是干净的，所以会报 name 'platform' is not defined 。\r\n",
    "print(platform.uname())"
   ],
   "outputs": [
    {
     "output_type": "stream",
     "name": "stderr",
     "text": [
      "2021-01-21 14:27:38,508 - rpyc_ikernel - ERROR - name 'platform' is not defined\n",
      "\n",
      "========= Remote Traceback (1) =========\n",
      "Traceback (most recent call last):\n",
      "  File \"/usr/lib/python3.8/site-packages/rpyc/core/protocol.py\", line 324, in _dispatch_request\n",
      "    res = self._HANDLERS[handler](self, *args)\n",
      "  File \"/usr/lib/python3.8/site-packages/rpyc/core/protocol.py\", line 592, in _handle_call\n",
      "    return obj(*args, **dict(kwargs))\n",
      "  File \"/usr/lib/python3.8/site-packages/rpyc/core/service.py\", line 152, in execute\n",
      "    execute(text, self.namespace)\n",
      "  File \"<string>\", line 3, in <module>\n",
      "NameError: name 'platform' is not defined\n",
      "\n"
     ]
    }
   ],
   "metadata": {}
  },
  {
   "cell_type": "code",
   "execution_count": 1,
   "source": [
    "import platform"
   ],
   "outputs": [],
   "metadata": {}
  },
  {
   "cell_type": "code",
   "execution_count": 1,
   "source": [
    "print(platform.uname())"
   ],
   "outputs": [
    {
     "output_type": "stream",
     "name": "stdout",
     "text": [
      "uname_result(system='Linux', node='sipeed', release='4.9.118', version='#110 PREEMPT Fri Dec 25 08:16:04 UTC 2020', machine='armv7l', processor='')\n"
     ]
    }
   ],
   "metadata": {}
  },
  {
   "cell_type": "code",
   "execution_count": null,
   "source": [],
   "outputs": [],
   "metadata": {}
  }
 ],
 "metadata": {
  "celltoolbar": "编辑元数据",
  "kernelspec": {
   "display_name": "RPyc-Python",
   "language": "Python",
   "name": "rpyc"
  },
  "language_info": {
   "codemirror_mode": "python",
   "file_extension": ".py",
   "mimetype": "text/python",
   "name": "Python"
  }
 },
 "nbformat": 4,
 "nbformat_minor": 4
}