{
 "cells": [
  {
   "cell_type": "code",
   "execution_count": 1,
   "source": [
    "import platform\r\n",
    "print(platform.uname())\r\n",
    "\r\n",
    "import os\r\n",
    "print(os.popen('cat cat /etc/banner').read())\r\n",
    "\r\n",
    "import os\r\n",
    "print(os.popen('ln -s /usr/sbin/fbviewer /usr/sbin/display').read())"
   ],
   "outputs": [
    {
     "output_type": "stream",
     "name": "stdout",
     "text": [
      "uname_result(system='Linux', node='sipeed', release='4.9.118', version='#3 PREEMPT Mon Jan 25 05:20:05 UTC 2021', machine='armv7l', processor='')\n",
      "   __  ___     _        __   _               \n",
      "  /  |/  /__ _(_)_ __  / /  (_)__  __ ____ __\n",
      " / /|_/ / _ `/ /\\ \\ / / /__/ / _ \\/ // /\\ \\ /\n",
      "/_/  /_/\\_,_/_//_\\_\\ /____/_/_//_/\\_,_//_\\_\\ \n",
      " ----------------------------------------------\n",
      "\n",
      "\n"
     ]
    }
   ],
   "metadata": {}
  },
  {
   "cell_type": "code",
   "execution_count": 1,
   "source": [
    "# -*- coding: UTF-8 -*-  \r\n",
    "\r\n",
    "from PIL import Image\r\n",
    "from PIL import ImageDraw\r\n",
    "from PIL import ImageFont\r\n",
    "\r\n",
    "def draw_test():\r\n",
    "    \r\n",
    "    # 生成绘图画布\r\n",
    "    #     import numpy as np\r\n",
    "    #     array = np.ndarray((240, 240, 3), np.uint8)\r\n",
    "    #     array[:, :, 0] = 255\r\n",
    "    #     array[:, :, 1] = 0\r\n",
    "    #     array[:, :, 2] = 0\r\n",
    "    #     image = Image.fromarray(array)\r\n",
    "\r\n",
    "    image = Image.new(\"RGB\", (240, 240), \"#FF0000\")\r\n",
    "    # 创建绘制对象\r\n",
    "    draw = ImageDraw.Draw(image)\r\n",
    "\r\n",
    "    # 绘制直线\r\n",
    "    draw.line((20, 20, 200, 200), 'cyan')\r\n",
    "\r\n",
    "    # 绘制矩形\r\n",
    "    draw.rectangle((30, 20, 60, 80), (255, 255, 255), 'red')\r\n",
    "\r\n",
    "    # 绘制弧\r\n",
    "    draw.arc((110, 150, 150, 180), 0, 180, 'yellow')\r\n",
    "    draw.arc((110, 150, 150, 180), -90, 0, 'green')\r\n",
    "\r\n",
    "    # 绘制弦\r\n",
    "    draw.chord((135, 100, 230, 180), 0, 120, 'khaki', 'orange')\r\n",
    "\r\n",
    "    # 绘制圆饼图\r\n",
    "    draw.pieslice((135, 100, 220, 180), -150, -30, 'pink', 'crimson')\r\n",
    "\r\n",
    "    # 绘制椭圆\r\n",
    "    draw.ellipse((135, 130, 150, 140), 'yellowgreen', 'wheat')\r\n",
    "    \r\n",
    "    # 外切矩形为正方形时椭圆即为圆\r\n",
    "    draw.ellipse((155, 20, 200, 80), (0, 255, 0), 'skyblue')\r\n",
    "\r\n",
    "    # 绘制五角多边形\r\n",
    "    draw.polygon((131, 77, 131, 122, 88, 136, 62, 100, 88, 63), 'skyblue', 'hotpink')\r\n",
    "    \r\n",
    "    # 绘制文本\r\n",
    "    font = ImageFont.truetype(\"/root/SourceHanSans.ttf\", 40, encoding=\"unic\")  # 设置字体\r\n",
    "    draw.text((10, 180), u'你好，世界。', (50, 50, 50), font)\r\n",
    "#     draw.text((10, 180), u'hello world', (50, 50, 50))\r\n",
    "\r\n",
    "#     image.show()\r\n",
    "    \r\n",
    "    from maix import display\r\n",
    "    \r\n",
    "#     display.local_show(False)\r\n",
    "    display.hook(clear_output=True)\r\n",
    "    display.show(image)\r\n",
    "    \r\n",
    "draw_test()\r\n"
   ],
   "outputs": [
    {
     "output_type": "display_data",
     "data": {
      "image/jpeg": "[encoded data removed]"
     },
     "metadata": {}
    }
   ],
   "metadata": {}
  },
  {
   "cell_type": "code",
   "execution_count": null,
   "source": [],
   "outputs": [],
   "metadata": {}
  }
 ],
 "metadata": {
  "kernelspec": {
   "display_name": "RPyc-Python",
   "language": "Python",
   "name": "rpyc"
  },
  "language_info": {
   "codemirror_mode": "python",
   "file_extension": ".py",
   "mimetype": "text/python",
   "name": "Python"
  }
 },
 "nbformat": 4,
 "nbformat_minor": 4
}