{
 "cells": [
  {
   "cell_type": "code",
   "execution_count": 1,
   "source": [
    "$connect(\"localhost\")\r\n",
    "\r\n",
    "$exec(import platform)\r\n",
    "$exec(print(platform.uname()))\r\n",
    "\r\n",
    "import time\r\n",
    "print(time.asctime())\r\n",
    "\r\n",
    "import platform\r\n",
    "print(platform.uname())"
   ],
   "outputs": [
    {
     "output_type": "stream",
     "name": "stdout",
     "text": [
      "uname_result(system='Linux', node='dls-pc', release='5.4.80-2-MANJARO', version='#1 SMP PREEMPT Sat Nov 28 09:58:18 UTC 2020', machine='x86_64', processor='')\n",
      "Sun Jan  3 00:09:15 2021\n",
      "uname_result(system='Linux', node='dls-pc', release='5.4.80-2-MANJARO', version='#1 SMP PREEMPT Sat Nov 28 09:58:18 UTC 2020', machine='x86_64', processor='')\n"
     ]
    }
   ],
   "metadata": {}
  },
  {
   "cell_type": "code",
   "execution_count": 1,
   "source": [
    "import platform\r\n",
    "result = platform.uname() # 这里配置了远端的域内变量（result）。"
   ],
   "outputs": [],
   "metadata": {}
  },
  {
   "cell_type": "code",
   "execution_count": 1,
   "source": [
    "$exec(print(self.remote.namespace['result'])) # 这里演示了获取远端的域内变量（result）。"
   ],
   "outputs": [
    {
     "output_type": "stream",
     "name": "stdout",
     "text": [
      "uname_result(system='Linux', node='dls-pc', release='5.4.80-2-MANJARO', version='#1 SMP PREEMPT Sat Nov 28 09:58:18 UTC 2020', machine='x86_64', processor='')\n"
     ]
    }
   ],
   "metadata": {}
  }
 ],
 "metadata": {
  "kernelspec": {
   "display_name": "RPyc-Python",
   "language": "Python",
   "name": "rpyc"
  },
  "language_info": {
   "codemirror_mode": "python",
   "file_extension": ".py",
   "mimetype": "text/python",
   "name": "Python"
  }
 },
 "nbformat": 4,
 "nbformat_minor": 4
}