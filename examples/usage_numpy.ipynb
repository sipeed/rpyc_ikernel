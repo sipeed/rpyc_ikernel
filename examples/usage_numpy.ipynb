{
 "cells": [
  {
   "cell_type": "code",
   "execution_count": 1,
   "source": [
    "import numpy as np\r\n",
    "\r\n",
    "array = np.array([[1,2,3],[4,5,6]])\r\n",
    "print(array)\r\n",
    "print('number of dim:', array.ndim)\r\n",
    "print('shape:',array.shape)\r\n",
    "print('size:',array.size)"
   ],
   "outputs": [
    {
     "output_type": "stream",
     "name": "stdout",
     "text": [
      "[[1 2 3]\n",
      " [4 5 6]]\n",
      "number of dim: 2\n",
      "shape: (2, 3)\n",
      "size: 6\n"
     ]
    }
   ],
   "metadata": {}
  },
  {
   "cell_type": "code",
   "execution_count": 1,
   "source": [
    "import numpy as np\r\n",
    "a = np.array([1.,2,3])\r\n",
    "# print(a.dtype) #默认是int64,如果数组里有浮点数则默认为float64\r\n",
    "#转换浮点类型为int32类型\r\n",
    "a = a.astype(np.int32)\r\n",
    "# print(a)\r\n",
    "\r\n",
    "#arange范围函数,起点(包含)，终点(不包含)，步数，类型\r\n",
    "a = np.arange(1,101,1,np.float32)\r\n",
    "# print(a)\r\n",
    "a = a.reshape([10,10])\r\n",
    "# print(a)\r\n",
    "\r\n",
    "#范围内均予分布 起点(包含)，终点（包含），均予份数\r\n",
    "a = np.linspace(1.,10.,100)\r\n",
    "# print(a)\r\n",
    "\r\n",
    "# 1代表最小维度行的列数，2代表最小维度行的行数--》2行一列可看成最小单位；3：3个最小单位为第二最小单位，再继续三个第二最小单位为第三最小单位\r\n",
    "a = np.indices((3,2,1))\r\n",
    "# print(a)\r\n",
    "\r\n",
    "# 全0矩阵\r\n",
    "a = np.zeros(shape=(3,4),dtype=float)\r\n",
    "# print(a)\r\n",
    "\r\n",
    "# 全1矩阵\r\n",
    "#np.ones(shape=(3,4),dtype=float)\r\n",
    "\r\n",
    "# 对角矩阵\r\n",
    "a = np.diag([1,2,3])\r\n",
    "# print(a)\r\n",
    "a = np.diag(np.array([[1,0,0],[0,2,0],[0,0,3]]))\r\n",
    "# print(a)\r\n",
    "\r\n",
    "# 幂零矩阵\r\n",
    "a = np.eye(3)\r\n",
    "# print(a)\r\n",
    "\r\n",
    "#随机函数创建 3,4为size\r\n",
    "a = np.random.rand(3,4)\r\n",
    "# print(a)\r\n",
    "#4:最大数字（不包含）\r\n",
    "a = np.random.randint(4,size=(3,4))\r\n",
    "# print(a)\r\n",
    "#正态分布\r\n",
    "a = np.random.randn(3,4)\r\n",
    "print(a)"
   ],
   "outputs": [
    {
     "output_type": "stream",
     "name": "stdout",
     "text": [
      "[[-1.27654328 -1.0317064  -1.40746514 -0.7166965 ]\n",
      " [ 0.20615919 -1.60527329  0.96918109  0.55470053]\n",
      " [-0.97293677  0.48915093  1.78273845 -0.13884444]]\n"
     ]
    }
   ],
   "metadata": {}
  }
 ],
 "metadata": {
  "kernelspec": {
   "display_name": "RPyc-Python",
   "language": "Python",
   "name": "rpyc"
  },
  "language_info": {
   "codemirror_mode": "python",
   "file_extension": ".py",
   "mimetype": "text/python",
   "name": "Python"
  }
 },
 "nbformat": 4,
 "nbformat_minor": 4
}