{
 "cells": [
  {
   "cell_type": "code",
   "execution_count": 1,
   "metadata": {
    "scrolled": false
   },
   "outputs": [
    {
     "name": "stdout",
     "output_type": "stream",
     "text": [
      "uname_result(system='Linux', node='sipeed', release='4.9.118', version='#121 PREEMPT Sun Aug 29 02:17:39 UTC 2021', machine='armv7l', processor='')\n"
     ]
    }
   ],
   "source": [
    "import platform\n",
    "print(platform.uname())"
   ]
  },
  {
   "cell_type": "code",
   "execution_count": 1,
   "metadata": {},
   "outputs": [
    {
     "name": "stdout",
     "output_type": "stream",
     "text": [
      "\r\n",
      "Traceback (most recent call last):\r\n",
      "  File \"<string>\", line unknown, in <module>\r\n",
      "Remote.KeyboardInterrupt\r\n",
      "\n"
     ]
    }
   ],
   "source": [
    "from maix import display, camera\n",
    "from PIL import ImageDraw\n",
    "import time\n",
    "while True:\n",
    "    im = camera.capture()\n",
    "    if im:\n",
    "        draw = ImageDraw.Draw(im)\n",
    "        last_time = time.time()\n",
    "        draw.text((10, 10), str((1000 // (1000 * (time.time() - last_time)))), (255, 0, 0))\n",
    "        display.show(im)"
   ]
  },
  {
   "cell_type": "code",
   "execution_count": 1,
   "metadata": {},
   "outputs": [
    {
     "name": "stdout",
     "output_type": "stream",
     "text": [
      "\r\n",
      "Traceback (most recent call last):\r\n",
      "  File \"<string>\", line unknown, in <module>\r\n",
      "Remote.KeyboardInterrupt\r\n",
      "\n"
     ]
    },
    {
     "name": "stderr",
     "output_type": "stream",
     "text": [
      "Exception in thread Thread-7:\n",
      "Traceback (most recent call last):\n",
      "  File \"C:\\Users\\dls\\AppData\\Local\\Programs\\Python\\Python38\\lib\\threading.py\", line 932, in _bootstrap_inner\n"
     ]
    }
   ],
   "source": [
    "import time \n",
    "last_time = time.time()\n",
    "\n",
    "from maix import display, camera\n",
    "from PIL import Image, ImageDraw\n",
    "\n",
    "display.hook(clear_output=True)\n",
    "\n",
    "while True:\n",
    "    im = camera.read()\n",
    "    if im:\n",
    "        draw = display.get_draw()\n",
    "        last_time = time.time()\n",
    "        draw.text((10, 10), str((1000 // (1000 * (time.time() - last_time)))), (255, 0, 0))\n",
    "        display.show()"
   ]
  },
  {
   "cell_type": "code",
   "execution_count": null,
   "metadata": {},
   "outputs": [],
   "source": []
  }
 ],
 "metadata": {
  "kernelspec": {
   "display_name": "RPyc-Python",
   "language": "Python",
   "name": "rpyc"
  },
  "language_info": {
   "codemirror_mode": "python",
   "file_extension": ".py",
   "mimetype": "text/python",
   "name": "Python"
  }
 },
 "nbformat": 4,
 "nbformat_minor": 4
}
