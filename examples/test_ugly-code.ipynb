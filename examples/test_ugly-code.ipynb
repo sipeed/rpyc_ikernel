{
 "cells": [
  {
   "cell_type": "code",
   "execution_count": 1,
   "metadata": {
    "scrolled": true
   },
   "outputs": [
    {
     "name": "stdout",
     "output_type": "stream",
     "text": [
      "uname_result(system='Linux', node='sipeed', release='4.9.118', version='#121 PREEMPT Sun Aug 29 02:17:39 UTC 2021', machine='armv7l', processor='')\n",
      "Thu Jan  1 02:30:22 1970\n"
     ]
    }
   ],
   "source": [
    "import platform\n",
    "print(platform.uname())\n",
    "import time\n",
    "print(time.asctime())"
   ]
  },
  {
   "cell_type": "code",
   "execution_count": 1,
   "metadata": {},
   "outputs": [
    {
     "name": "stdout",
     "output_type": "stream",
     "text": [
      "test\n"
     ]
    },
    {
     "name": "stderr",
     "output_type": "stream",
     "text": [
      "2021-08-29 22:52:23,242 - rpyc_ikernel - ERROR - HELLO\n",
      "\n",
      "========= Remote Traceback (1) =========\n",
      "Traceback (most recent call last):\n",
      "  File \"/usr/lib/python3.8/site-packages/rpyc/core/protocol.py\", line 324, in _dispatch_request\n",
      "  File \"/usr/lib/python3.8/site-packages/rpyc/core/protocol.py\", line 592, in _handle_call\n",
      "  File \"/usr/lib/python3.8/site-packages/rpyc/core/service.py\", line 152, in execute\n",
      "  File \"<string>\", line 2, in <module>\n",
      "Exception: HELLO\n",
      "\n"
     ]
    }
   ],
   "source": [
    "print('test')\n",
    "raise Exception('HELLO')"
   ]
  },
  {
   "cell_type": "code",
   "execution_count": 1,
   "metadata": {},
   "outputs": [
    {
     "name": "stderr",
     "output_type": "stream",
     "text": [
      "2021-01-21 14:29:19,403 - rpyc_ikernel - ERROR - division by zero\n",
      "\n",
      "========= Remote Traceback (1) =========\n",
      "Traceback (most recent call last):\n",
      "  File \"/usr/lib/python3.8/site-packages/rpyc/core/protocol.py\", line 324, in _dispatch_request\n",
      "    res = self._HANDLERS[handler](self, *args)\n",
      "  File \"/usr/lib/python3.8/site-packages/rpyc/core/protocol.py\", line 592, in _handle_call\n",
      "    return obj(*args, **dict(kwargs))\n",
      "  File \"/usr/lib/python3.8/site-packages/rpyc/core/service.py\", line 152, in execute\n",
      "    execute(text, self.namespace)\n",
      "  File \"<string>\", line 1, in <module>\n",
      "ZeroDivisionError: division by zero\n",
      "\n"
     ]
    }
   ],
   "source": [
    "255 / 0"
   ]
  },
  {
   "cell_type": "code",
   "execution_count": 1,
   "metadata": {},
   "outputs": [
    {
     "name": "stdout",
     "output_type": "stream",
     "text": [
      "51.0\n",
      "860\n",
      "[<_MainThread(MainThread, started 3070084248)>, <RtspServerThread(0.0.0.0, started 3062058308)>, <Thread(Thread-87, started daemon 3065781548)>, <Thread(Thread-88, started daemon 3060825388)>, <Thread(Thread-89, started daemon 3060735276)>]\n"
     ]
    }
   ],
   "source": [
    "tmp = 255 / 5\n",
    "print(tmp)\n",
    "import os\n",
    "print(os.getpid())\n",
    "import threading\n",
    "print(threading.enumerate())\n"
   ]
  },
  {
   "cell_type": "code",
   "execution_count": 1,
   "metadata": {},
   "outputs": [
    {
     "name": "stdout",
     "output_type": "stream",
     "text": [
      "1611210572.609992\n",
      "1611210574.0615237\n",
      "\n",
      "Traceback (most recent call last):\n",
      "  File \"<string>\", line unknown, in <module>\n",
      "Remote.KeyboardInterrupt\n",
      "\n"
     ]
    }
   ],
   "source": [
    "\n",
    "import time\n",
    "for i in range(10):\n",
    "    time.sleep(1)\n",
    "    print(time.time())\n"
   ]
  },
  {
   "cell_type": "code",
   "execution_count": 1,
   "metadata": {},
   "outputs": [
    {
     "name": "stdout",
     "output_type": "stream",
     "text": [
      "\r\n",
      "Traceback (most recent call last):\r\n",
      "  File \"<string>\", line unknown, in <module>\r\n",
      "Remote.KeyboardInterrupt\r\n",
      "\n"
     ]
    }
   ],
   "source": [
    "import time\n",
    "while True:\n",
    "    time.sleep(1)"
   ]
  },
  {
   "cell_type": "code",
   "execution_count": 1,
   "metadata": {},
   "outputs": [
    {
     "name": "stdout",
     "output_type": "stream",
     "text": [
      "\r\n",
      "Traceback (most recent call last):\r\n",
      "  File \"<string>\", line unknown, in <module>\r\n",
      "Remote.KeyboardInterrupt\r\n",
      "\n"
     ]
    }
   ],
   "source": [
    "while True:\n",
    "    pass"
   ]
  },
  {
   "cell_type": "code",
   "execution_count": null,
   "metadata": {},
   "outputs": [],
   "source": []
  }
 ],
 "metadata": {
  "kernelspec": {
   "display_name": "RPyc-Python",
   "language": "Python",
   "name": "rpyc"
  },
  "language_info": {
   "codemirror_mode": "python",
   "file_extension": ".py",
   "mimetype": "text/python",
   "name": "Python"
  }
 },
 "nbformat": 4,
 "nbformat_minor": 4
}
