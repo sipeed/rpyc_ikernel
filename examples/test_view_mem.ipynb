{
 "cells": [
  {
   "cell_type": "code",
   "execution_count": 1,
   "source": [
    "import platform\r\n",
    "print(platform.uname())"
   ],
   "outputs": [
    {
     "output_type": "stream",
     "name": "stdout",
     "text": [
      "uname_result(system='Linux', node='sipeed', release='4.9.118', version='#7 PREEMPT Mon Dec 7 10:27:38 UTC 2020', machine='armv7l', processor='')\n"
     ]
    }
   ],
   "metadata": {}
  },
  {
   "cell_type": "code",
   "execution_count": 1,
   "source": [
    "'''\r\n",
    "\r\n",
    "## 目前关于 Python3 在 V831 上消耗的内存统计\r\n",
    "\r\n",
    "Python3 运行的结果。\r\n",
    "\r\n",
    "- python3_3.8.5-2_sunxi.ipk\r\n",
    "\r\n",
    "  853 root     5352  T    python3\r\n",
    "  \r\n",
    "- python3-rpyc (pip install)\r\n",
    "\r\n",
    "  846 root     11844 S    python3 /root/rpyc_test.py\r\n",
    "\r\n",
    "如下依赖库需运行可知。\r\n",
    "\r\n",
    "- python3-pillow_7.2.0-1_sunxi.ipk\r\n",
    "- python3-numpy_1.19.2-1_sunxi.ipk\r\n",
    "\r\n",
    "'''\r\n",
    "\r\n",
    "import gc\r\n",
    "gc.collect()\r\n",
    "\r\n",
    "import os\r\n",
    "def shell(cmd):\r\n",
    "    import os\r\n",
    "    textlist = os.popen(cmd).readlines()\r\n",
    "    for line in textlist:\r\n",
    "        print(line)\r\n",
    "\r\n",
    "shell('free -m')\r\n",
    "\r\n",
    "shell('echo 3 > /proc/sys/vm/drop_caches')\r\n",
    "\r\n",
    "shell(\"ps -w | grep %d | head -n 1\" % os.getpid())\r\n",
    "\r\n",
    "# shell(\"cat /proc/%s/status\" % os.getpid()) # put mem\r\n"
   ],
   "outputs": [
    {
     "output_type": "stream",
     "name": "stdout",
     "text": [
      "             total       used       free     shared    buffers     cached\n",
      "\n",
      "Mem:         59756      57752       2004          8       1192      14648\n",
      "\n",
      "-/+ buffers/cache:      41912      17844\n",
      "\n",
      "Swap:       262140         28     262112\n",
      "\n",
      "  805 root     11400 S    python3 /root/rpycs.py\n",
      "\n"
     ]
    }
   ],
   "metadata": {}
  },
  {
   "cell_type": "code",
   "execution_count": 1,
   "source": [
    "import numpy\n",
    "shell('free -m')"
   ],
   "outputs": [
    {
     "output_type": "stream",
     "name": "stdout",
     "text": [
      "             total       used       free     shared    buffers     cached\n",
      "\n",
      "Mem:         59756      57456       2300          8        996       8580\n",
      "\n",
      "-/+ buffers/cache:      47880      11876\n",
      "\n",
      "Swap:       262140        260     261880\n",
      "\n"
     ]
    }
   ],
   "metadata": {}
  },
  {
   "cell_type": "code",
   "execution_count": 1,
   "source": [
    "from PIL import Image\n",
    "shell('free -m')"
   ],
   "outputs": [
    {
     "output_type": "stream",
     "name": "stdout",
     "text": [
      "             total       used       free     shared    buffers     cached\n",
      "\n",
      "Mem:         59756      58044       1712          8        408       9168\n",
      "\n",
      "-/+ buffers/cache:      48468      11288\n",
      "\n",
      "Swap:       262140        336     261804\n",
      "\n"
     ]
    }
   ],
   "metadata": {}
  },
  {
   "cell_type": "code",
   "execution_count": null,
   "source": [
    "'''\n",
    "\n",
    "# 1. 一般启动\n",
    "\n",
    "11068  18%   0% python rpyc_test.py\n",
    "\n",
    "# 2. 设置 320 * 240 的纯色 Jpeg 图片传输。\n",
    "\n",
    "17436  29%  68% python rpyc_test.py\n",
    "\n",
    "# 3. 设置 640 * 480 的纯色 Jpeg 图片传输。\n",
    "\n",
    "19172  32%  73% python rpyc_test.py\n",
    "\n",
    "# 4. 最大观察到的情况如下，可能是变量没有被 GC 主动回收。\n",
    "\n",
    "26620  44%  41% python rpyc_test.py\n",
    "\n",
    "在 2. 启动图传测试增加 5M ，加载 from PIL import Image 要 2M\n",
    "存在 image 原图 + 压缩缓冲 两个变量，各 320*240*3 *2 理论约 500K。\n",
    "\n",
    "剩下 2.5M 被系统消耗的不明不白。\n",
    "\n",
    "到 3. 时 640*480*3*2 约 897k 则下面增加了 1M 多的情况，比较符合预期。\n",
    "\n",
    "而 4. 情况可能是 3 和 4 阶段的变量同时存在。\n",
    "\n",
    "'''"
   ],
   "outputs": [],
   "metadata": {}
  },
  {
   "cell_type": "code",
   "execution_count": 1,
   "source": [
    "#! /usr/bin/python\n",
    "import ctypes\n",
    "import sys\n",
    "\n",
    "size = int(200)\n",
    "class MemoryTest(ctypes.Structure):\n",
    "    _fields_ = [  ('chars' , ctypes.c_char*size * 1024*1024 ) ]\n",
    "\n",
    "try:\n",
    "    test = MemoryTest()\n",
    "    print('success => {0:>4}MB was allocated'.format(size) )\n",
    "except:\n",
    "    print('failure => {0:>4}MB can not be allocated'.format(size) )\n",
    "    \n",
    "shell('free -m')"
   ],
   "outputs": [
    {
     "output_type": "stream",
     "name": "stderr",
     "text": [
      "2020-12-22 18:30:27,113 - rpyc_ikernel - ERROR - name 'shell' is not defined\n",
      "\n",
      "========= Remote Traceback (1) =========\n",
      "Traceback (most recent call last):\n",
      "  File \"/usr/lib/python3.8/site-packages/rpyc/core/protocol.py\", line 320, in _dispatch_request\n",
      "    res = self._HANDLERS[handler](self, *args)\n",
      "  File \"/usr/lib/python3.8/site-packages/rpyc/core/protocol.py\", line 593, in _handle_call\n",
      "    return obj(*args, **dict(kwargs))\n",
      "  File \"/usr/lib/python3.8/site-packages/rpyc/core/service.py\", line 152, in execute\n",
      "    execute(text, self.namespace)\n",
      "  File \"<string>\", line 15, in <module>\n",
      "NameError: name 'shell' is not defined\n",
      "\n"
     ]
    },
    {
     "output_type": "stream",
     "name": "stdout",
     "text": [
      "success =>  200MB was allocated\n"
     ]
    }
   ],
   "metadata": {}
  },
  {
   "cell_type": "code",
   "execution_count": 1,
   "source": [],
   "outputs": [],
   "metadata": {}
  },
  {
   "cell_type": "code",
   "execution_count": null,
   "source": [],
   "outputs": [],
   "metadata": {}
  }
 ],
 "metadata": {
  "kernelspec": {
   "display_name": "RPyc-Python",
   "language": "Python",
   "name": "rpyc"
  },
  "language_info": {
   "codemirror_mode": "python",
   "file_extension": ".py",
   "mimetype": "text/python",
   "name": "Python"
  }
 },
 "nbformat": 4,
 "nbformat_minor": 4
}